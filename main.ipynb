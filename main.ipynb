{
 "cells": [
  {
   "cell_type": "markdown",
   "metadata": {},
   "source": [
    "## Count Surfers in the Water\n",
    "### Description\n",
    "This project is to count how many surfers in the water\n",
    "So you know the traffi in the water.\n",
    "\n",
    "A typical good sample image as follows: (You can see 3 people are in the water)\n",
    "\n",
    "<img src=\"./Images/SampleImages_001.png\" width=\"600\" align=\"left\" />\n",
    "\n"
   ]
  },
  {
   "cell_type": "markdown",
   "metadata": {},
   "source": [
    "### Goal\n",
    "My goal is to let the software automatically count how many people are in the water given series of images (video), this project is to count how many surfers are in the water"
   ]
  },
  {
   "cell_type": "markdown",
   "metadata": {},
   "source": [
    "### File Structure\n",
    "\n",
    "./Images - includes all the images\n",
    "\n",
    "./Videos - includes all the videos"
   ]
  },
  {
   "cell_type": "markdown",
   "metadata": {},
   "source": [
    "### Various conditions\n",
    "\n",
    "Wish there are only good days for beach day. But, unfortunately there are many different weather/environment conditions we need to take care!\n",
    "\n",
    "Condition | Image\n",
    "------------ | -------------\n",
    "Fog |\t<img src=\"./Images/Conditions_Fog.png\" width=\"500\" align=\"left\" />\n",
    "Birds |\t<img src=\"./Images/Conditions_Birds.png\" width=\"500\" align=\"left\" />\n",
    "Dark |\t<img src=\"./Images/Conditions_Dark.png\" width=\"500\" align=\"left\" />\n",
    "Poor Image |\t<img src=\"./Images/Conditions_PoorImageQuality.png\" width=\"500\" align=\"left\" />\n",
    "\n"
   ]
  },
  {
   "cell_type": "code",
   "execution_count": null,
   "metadata": {},
   "outputs": [],
   "source": []
  }
 ],
 "metadata": {
  "kernelspec": {
   "display_name": "Python 3",
   "language": "python",
   "name": "python3"
  },
  "language_info": {
   "codemirror_mode": {
    "name": "ipython",
    "version": 3
   },
   "file_extension": ".py",
   "mimetype": "text/x-python",
   "name": "python",
   "nbconvert_exporter": "python",
   "pygments_lexer": "ipython3",
   "version": "3.7.4"
  }
 },
 "nbformat": 4,
 "nbformat_minor": 2
}
